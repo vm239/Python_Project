{
 "cells": [
  {
   "cell_type": "code",
   "execution_count": 1,
   "metadata": {},
   "outputs": [
    {
     "name": "stdout",
     "output_type": "stream",
     "text": [
      "What is your current age?56\n",
      "You have 12410 days, 1768 weeks and 408 months left.\n"
     ]
    }
   ],
   "source": [
    "age = input(\"What is your current age?\")\n",
    "days = ((90- int(age))*365)\n",
    "weeks = int((90 - int(age))*52)\n",
    "months = int((90-int(age))*12)\n",
    "print(f\"You have {days} days, {weeks} weeks and {months} months left.\")"
   ]
  }
 ],
 "metadata": {
  "kernelspec": {
   "display_name": "Python 3",
   "language": "python",
   "name": "python3"
  },
  "language_info": {
   "codemirror_mode": {
    "name": "ipython",
    "version": 3
   },
   "file_extension": ".py",
   "mimetype": "text/x-python",
   "name": "python",
   "nbconvert_exporter": "python",
   "pygments_lexer": "ipython3",
   "version": "3.8.5"
  }
 },
 "nbformat": 4,
 "nbformat_minor": 4
}
