{
 "cells": [
  {
   "cell_type": "code",
   "execution_count": 2,
   "metadata": {},
   "outputs": [],
   "source": [
    "import random"
   ]
  },
  {
   "cell_type": "code",
   "execution_count": 3,
   "metadata": {},
   "outputs": [],
   "source": [
    "rock = '''\n",
    "    _______\n",
    "---'   ____)\n",
    "      (_____)\n",
    "      (_____)\n",
    "      (____)\n",
    "---.__(___)\n",
    "'''\n",
    "\n",
    "paper = '''\n",
    "    _______\n",
    "---'   ____)____\n",
    "          ______)\n",
    "          _______)\n",
    "         _______)\n",
    "---.__________)\n",
    "'''\n",
    "\n",
    "scissors = '''\n",
    "    _______\n",
    "---'   ____)____\n",
    "          ______)\n",
    "       __________)\n",
    "      (____)\n",
    "---.__(___)\n",
    "'''"
   ]
  },
  {
   "cell_type": "code",
   "execution_count": 24,
   "metadata": {},
   "outputs": [
    {
     "name": "stdout",
     "output_type": "stream",
     "text": [
      "What do you choose? Type 0 for Rock, 1 for Paper or 2 for Scissors 1\n",
      "You chose Paper \n",
      "    _______\n",
      "---'   ____)____\n",
      "          ______)\n",
      "          _______)\n",
      "         _______)\n",
      "---.__________)\n",
      "\n",
      "Computer chose rock\n",
      "    _______\n",
      "---'   ____)\n",
      "      (_____)\n",
      "      (_____)\n",
      "      (____)\n",
      "---.__(___)\n",
      "\n",
      "You win\n"
     ]
    }
   ],
   "source": [
    "customer_choice = int(input(\"What do you choose? Type 0 for Rock, 1 for Paper or 2 for Scissors \"))\n",
    "if customer_choice == 0:\n",
    "    print(f\"You chose rock {rock}\")\n",
    "elif customer_choice == 1:\n",
    "    print(f\"You chose Paper {paper}\")\n",
    "elif customer_choice == 2:\n",
    "    print(f\"You chose Scissors {scissors}\")\n",
    "else:\n",
    "    print(\"Your choice is invalid, please try the game again after reading instructions properly.\")\n",
    "\n",
    "response = random.randint(0,2)\n",
    "if response == 0:\n",
    "    print(f\"Computer chose rock{rock}\")\n",
    "elif response == 1:\n",
    "    print(f\"Computer chose paper{paper}\")\n",
    "elif response == 2:\n",
    "    print(f\"Computer chose scissors{scissors}\")\n",
    "\n",
    "if customer_choice == response:\n",
    "    print(\"This match is a draw\")\n",
    "else:\n",
    "    rule_list = [customer_choice, response]\n",
    "\n",
    "win_list = [[0,2],[1,0],[2,1]]\n",
    "lose_list = [[0,1], [1,2], [2,0]]\n",
    "        \n",
    "if rule_list in win_list:\n",
    "    print(\"You win\")\n",
    "else:\n",
    "    print(\"You lose\")"
   ]
  },
  {
   "cell_type": "code",
   "execution_count": 36,
   "metadata": {},
   "outputs": [
    {
     "name": "stdout",
     "output_type": "stream",
     "text": [
      "This match is a draw\n"
     ]
    }
   ],
   "source": [
    "\n",
    "customer_choice = 1\n",
    "response = 1\n",
    "    \n",
    "if customer_choice == response:\n",
    "    print(\"This match is a draw\")\n",
    "else:\n",
    "    print(\"I got here\")\n",
    "    rule_list = [customer_choice, response]\n",
    "    win_list = [[0,2],[1,0],[2,1]]\n",
    "    lose_list = [[0,1], [1,2], [2,0]]\n",
    "    if rule_list in win_list:\n",
    "        print(\"You win\")\n",
    "    else:\n",
    "        print(\"You lose\")"
   ]
  },
  {
   "cell_type": "code",
   "execution_count": null,
   "metadata": {},
   "outputs": [],
   "source": []
  },
  {
   "cell_type": "code",
   "execution_count": null,
   "metadata": {},
   "outputs": [],
   "source": []
  },
  {
   "cell_type": "code",
   "execution_count": null,
   "metadata": {},
   "outputs": [],
   "source": []
  },
  {
   "cell_type": "code",
   "execution_count": null,
   "metadata": {},
   "outputs": [],
   "source": []
  },
  {
   "cell_type": "code",
   "execution_count": 4,
   "metadata": {},
   "outputs": [
    {
     "name": "stdout",
     "output_type": "stream",
     "text": [
      "What do you choose? Type 0 for Rock, 1 for Paper or 2 for Scissors 2\n",
      "You chose Scissors \n",
      "    _______\n",
      "---'   ____)____\n",
      "          ______)\n",
      "       __________)\n",
      "      (____)\n",
      "---.__(___)\n",
      "\n",
      "Computer chose paper\n",
      "    _______\n",
      "---'   ____)____\n",
      "          ______)\n",
      "          _______)\n",
      "         _______)\n",
      "---.__________)\n",
      "\n",
      "This match is a draw\n"
     ]
    },
    {
     "ename": "NameError",
     "evalue": "name 'rule_list' is not defined",
     "output_type": "error",
     "traceback": [
      "\u001b[0;31m---------------------------------------------------------------------------\u001b[0m",
      "\u001b[0;31mNameError\u001b[0m                                 Traceback (most recent call last)",
      "\u001b[0;32m<ipython-input-4-b504b053b91e>\u001b[0m in \u001b[0;36m<module>\u001b[0;34m\u001b[0m\n\u001b[1;32m     28\u001b[0m \u001b[0mlose_list\u001b[0m \u001b[0;34m=\u001b[0m \u001b[0;34m[\u001b[0m\u001b[0;34m[\u001b[0m\u001b[0;36m0\u001b[0m\u001b[0;34m,\u001b[0m\u001b[0;36m1\u001b[0m\u001b[0;34m]\u001b[0m\u001b[0;34m,\u001b[0m \u001b[0;34m[\u001b[0m\u001b[0;36m1\u001b[0m\u001b[0;34m,\u001b[0m\u001b[0;36m2\u001b[0m\u001b[0;34m]\u001b[0m\u001b[0;34m,\u001b[0m \u001b[0;34m[\u001b[0m\u001b[0;36m2\u001b[0m\u001b[0;34m,\u001b[0m\u001b[0;36m0\u001b[0m\u001b[0;34m]\u001b[0m\u001b[0;34m]\u001b[0m\u001b[0;34m\u001b[0m\u001b[0;34m\u001b[0m\u001b[0m\n\u001b[1;32m     29\u001b[0m \u001b[0;34m\u001b[0m\u001b[0m\n\u001b[0;32m---> 30\u001b[0;31m \u001b[0;32mif\u001b[0m \u001b[0mrule_list\u001b[0m \u001b[0;32min\u001b[0m \u001b[0mwin_list\u001b[0m\u001b[0;34m:\u001b[0m\u001b[0;34m\u001b[0m\u001b[0;34m\u001b[0m\u001b[0m\n\u001b[0m\u001b[1;32m     31\u001b[0m     \u001b[0mprint\u001b[0m\u001b[0;34m(\u001b[0m\u001b[0;34m\"You win\"\u001b[0m\u001b[0;34m)\u001b[0m\u001b[0;34m\u001b[0m\u001b[0;34m\u001b[0m\u001b[0m\n\u001b[1;32m     32\u001b[0m \u001b[0;32melse\u001b[0m\u001b[0;34m:\u001b[0m\u001b[0;34m\u001b[0m\u001b[0;34m\u001b[0m\u001b[0m\n",
      "\u001b[0;31mNameError\u001b[0m: name 'rule_list' is not defined"
     ]
    }
   ],
   "source": [
    "customer_choice = int(input(\"What do you choose? Type 0 for Rock, 1 for Paper or 2 for Scissors \"))\n",
    "if customer_choice == 0:\n",
    "    print(f\"You chose rock {rock}\")\n",
    "elif customer_choice == 1:\n",
    "    print(f\"You chose Paper {paper}\")\n",
    "elif customer_choice == 2:\n",
    "    print(f\"You chose Scissors {scissors}\")\n",
    "else:\n",
    "    print(\"Your choice is invalid, please try the game again after reading instructions properly.\")\n",
    "\n",
    "response = random.randint(0,2)\n",
    "if response == 0:\n",
    "    print(f\"Computer chose rock{rock}\")\n",
    "elif response == 1:\n",
    "    print(f\"Computer chose paper{paper}\")\n",
    "elif response == 2:\n",
    "    print(f\"Computer chose scissors{scissors}\")\n",
    "\n",
    "customer_choice = 1\n",
    "response = 1\n",
    "    \n",
    "if customer_choice == response:\n",
    "    print(\"This match is a draw\")\n",
    "else:\n",
    "    rule_list = [customer_choice, response]\n",
    "\n",
    "win_list = [[0,2],[1,0],[2,1]]\n",
    "lose_list = [[0,1], [1,2], [2,0]]\n",
    "        \n",
    "if rule_list in win_list:\n",
    "    print(\"You win\")\n",
    "else:\n",
    "    print(\"You lose\")"
   ]
  },
  {
   "cell_type": "code",
   "execution_count": null,
   "metadata": {},
   "outputs": [],
   "source": []
  }
 ],
 "metadata": {
  "kernelspec": {
   "display_name": "Python 3",
   "language": "python",
   "name": "python3"
  },
  "language_info": {
   "codemirror_mode": {
    "name": "ipython",
    "version": 3
   },
   "file_extension": ".py",
   "mimetype": "text/x-python",
   "name": "python",
   "nbconvert_exporter": "python",
   "pygments_lexer": "ipython3",
   "version": "3.8.5"
  }
 },
 "nbformat": 4,
 "nbformat_minor": 4
}
