{
 "cells": [
  {
   "cell_type": "code",
   "execution_count": null,
   "metadata": {},
   "outputs": [
    {
     "name": "stdout",
     "output_type": "stream",
     "text": [
      "Welcome to Python Pizza Deliveries!\n"
     ]
    }
   ],
   "source": [
    "print(\"Welcome to Python Pizza Deliveries!\")\n",
    "pizza_size = str(input(\"What size pizza would you like?\\n Select from the following:\\n Press\\n S is Small - feeds 1 adult \\n M is Medium - feeds 2 adults\\n L is large - feeds 4 adults\\n\"))\n",
    "if pizza_size.lower() == \"s\":\n",
    "   base_cost = 15\n",
    "elif pizza_size.lower() == \"m\":\n",
    "   base_cost = 20\n",
    "elif pizza_size.lower() == \"l\":\n",
    "   base_cost = 25\n",
    "    \n",
    "pep = str(input(\"Do you want to add pepperoni to your pizza?\\nSelect Y for yes and N for no\\n\"))\n",
    "    \n",
    "if pep.lower() == \"y\":\n",
    "  if base_cost <= 15:\n",
    "      pep_cost = 2\n",
    "  elif base_cost >= 15:\n",
    "      pep_cost = 3\n",
    "else:\n",
    "    pep_cost = 0\n",
    "\n",
    "cheese = str(input(\"Do you want to add cheese to your pizza?\\nSelect Y for yes and N for no\\n\"))\n",
    "if cheese.lower() == \"y\":\n",
    "    cheese_cost = 1 \n",
    "else:\n",
    "    cheese_cost = 0\n",
    "\n",
    "amt = int(base_cost) + int(pep_cost) + int(cheese_cost)\n",
    "print(f\"Your total bill is ${amt}\")"
   ]
  },
  {
   "cell_type": "code",
   "execution_count": null,
   "metadata": {},
   "outputs": [],
   "source": []
  },
  {
   "cell_type": "code",
   "execution_count": null,
   "metadata": {},
   "outputs": [],
   "source": []
  }
 ],
 "metadata": {
  "kernelspec": {
   "display_name": "Python 3",
   "language": "python",
   "name": "python3"
  },
  "language_info": {
   "codemirror_mode": {
    "name": "ipython",
    "version": 3
   },
   "file_extension": ".py",
   "mimetype": "text/x-python",
   "name": "python",
   "nbconvert_exporter": "python",
   "pygments_lexer": "ipython3",
   "version": "3.8.5"
  }
 },
 "nbformat": 4,
 "nbformat_minor": 4
}
