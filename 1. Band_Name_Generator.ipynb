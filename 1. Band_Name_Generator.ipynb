{
 "cells": [
  {
   "cell_type": "code",
   "execution_count": 1,
   "metadata": {},
   "outputs": [
    {
     "name": "stdout",
     "output_type": "stream",
     "text": [
      "Welcome to the Band Generator.\n",
      "What's name of the city you grew up in\n",
      "Chennai\n",
      "What's the name of your pet?\n",
      "Gulpooh\n",
      "Your Band name is Chennai Gulpooh\n"
     ]
    }
   ],
   "source": [
    "print(\"Welcome to the Band Generator.\")\n",
    "city = input(\"What's name of the city you grew up in\\n\")\n",
    "pet = input(\"What's the name of your pet?\\n\")\n",
    "print(\"Your Band name is \" + city + \" \" + pet)"
   ]
  }
 ],
 "metadata": {
  "kernelspec": {
   "display_name": "Python 3",
   "language": "python",
   "name": "python3"
  },
  "language_info": {
   "codemirror_mode": {
    "name": "ipython",
    "version": 3
   },
   "file_extension": ".py",
   "mimetype": "text/x-python",
   "name": "python",
   "nbconvert_exporter": "python",
   "pygments_lexer": "ipython3",
   "version": "3.8.5"
  }
 },
 "nbformat": 4,
 "nbformat_minor": 4
}
