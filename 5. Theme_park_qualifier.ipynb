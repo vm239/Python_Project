{
 "cells": [
  {
   "cell_type": "code",
   "execution_count": 10,
   "metadata": {},
   "outputs": [
    {
     "name": "stdout",
     "output_type": "stream",
     "text": [
      "Enter your height here: 244\n",
      "Enter your age here: 56\n",
      "Do you need a photograph on the ride? Yes/Noyes\n",
      "Please pay $15 for your ticket.\n",
      " Enjoy your ride!\n"
     ]
    }
   ],
   "source": [
    "height = int(input(\"Enter your height here: \"))\n",
    "if height >= 120:\n",
    "  age = int(input(\"Enter your age here: \"))\n",
    "  if age >= 18:\n",
    "    choice = input(\"Do you need a photograph on the ride? Yes/No\")\n",
    "    if str(choice.lower()) == \"yes\":\n",
    "        print(\"Please pay $15 for your ticket.\\n Enjoy your ride!\")\n",
    "    else:\n",
    "        print(\"Please pay $12 for your ticket.\\n Enjoy your ride!\")\n",
    "  elif age < 12:\n",
    "    if str(choice.lower()) == \"yes\":\n",
    "        print(\"Please pay $8 for your ticket.\\n Enjoy your ride!\")\n",
    "    else:\n",
    "        print(\"Please pay $5 for your ticket.\\n Enjoy your ride!\")\n",
    "  else:\n",
    "    if str(choice.lower()) == \"yes\":\n",
    "        print(\"Please pay $10 for your ticket.\\n Enjoy your ride!\")\n",
    "    else:\n",
    "        print(\"Please pay $7 for your ticket.\\n Enjoy your ride!\")\n",
    "\n",
    "else:\n",
    "  print(\"Sorry, you are not tall enough to ride. Thank you for your cooperation, and have a good day.\")"
   ]
  },
  {
   "cell_type": "code",
   "execution_count": null,
   "metadata": {},
   "outputs": [],
   "source": []
  },
  {
   "cell_type": "code",
   "execution_count": null,
   "metadata": {},
   "outputs": [],
   "source": []
  },
  {
   "cell_type": "code",
   "execution_count": null,
   "metadata": {},
   "outputs": [],
   "source": []
  }
 ],
 "metadata": {
  "kernelspec": {
   "display_name": "Python 3",
   "language": "python",
   "name": "python3"
  },
  "language_info": {
   "codemirror_mode": {
    "name": "ipython",
    "version": 3
   },
   "file_extension": ".py",
   "mimetype": "text/x-python",
   "name": "python",
   "nbconvert_exporter": "python",
   "pygments_lexer": "ipython3",
   "version": "3.8.5"
  }
 },
 "nbformat": 4,
 "nbformat_minor": 4
}
