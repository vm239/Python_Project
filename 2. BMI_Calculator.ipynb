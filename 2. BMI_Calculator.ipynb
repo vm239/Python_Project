{
 "cells": [
  {
   "cell_type": "code",
   "execution_count": null,
   "metadata": {},
   "outputs": [],
   "source": [
    "height = float(input(\"enter your height in m: \"))\n",
    "weight = float(input(\"enter your weight in kg: \"))\n",
    "\n",
    "bmi_temp = (weight / height ** 2)\n",
    "bmi = round(bmi_temp, 2)\n",
    "\n",
    "print(f\"You BMI is {bmi}.\")\n",
    "\n",
    "if bmi < 18.5:\n",
    "  print(\"You are underweight.\")\n",
    "elif 18.5 <= bmi < 25:\n",
    "  print(\"You are normal weight.\")\n",
    "elif 25 <= bmi < 30:\n",
    "  print(\"You are slightly overweight.\")\n",
    "elif 30 <= bmi < 35:\n",
    "  print(\"You are obese.\")\n",
    "elif bmi >= 35:\n",
    "  print(\"You are clinically obese.\")\n"
   ]
  },
  {
   "cell_type": "code",
   "execution_count": null,
   "metadata": {},
   "outputs": [],
   "source": []
  }
 ],
 "metadata": {
  "kernelspec": {
   "display_name": "Python 3",
   "language": "python",
   "name": "python3"
  },
  "language_info": {
   "codemirror_mode": {
    "name": "ipython",
    "version": 3
   },
   "file_extension": ".py",
   "mimetype": "text/x-python",
   "name": "python",
   "nbconvert_exporter": "python",
   "pygments_lexer": "ipython3",
   "version": "3.8.5"
  }
 },
 "nbformat": 4,
 "nbformat_minor": 4
}
