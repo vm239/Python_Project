{
 "cells": [
  {
   "cell_type": "code",
   "execution_count": null,
   "metadata": {},
   "outputs": [
    {
     "name": "stdout",
     "output_type": "stream",
     "text": [
      "Welcome to the Love Calculator!\n"
     ]
    }
   ],
   "source": [
    "print(\"Welcome to the Love Calculator!\")\n",
    "\n",
    "name1 = input(\"What is your name? \\n\")\n",
    "name1_l = name1.lower()\n",
    "name2 = input(\"What is their name? \\n\")\n",
    "name2_l = name2.lower()\n",
    "\n",
    "t_count = name1_l.count(\"t\") + name2_l.count(\"t\") \n",
    "\n",
    "print(f\"T occurs {t_count} times\")\n",
    "\n",
    "r_count = name1_l.count(\"r\") + name2_l.count(\"r\")\n",
    "\n",
    "print(f\"R occurs {r_count} times\")\n",
    "\n",
    "u_count = name1_l.count(\"u\") + name2_l.count(\"u\")\n",
    "print(f\"U occurs {u_count} times\")\n",
    "\n",
    "e_count = name1_l.count(\"e\") + name2_l.count(\"e\")\n",
    "print(f\"E occurs {e_count} times\")\n",
    "\n",
    "total1 = int((e_count) + (u_count) + (r_count) + (t_count))\n",
    "\n",
    "print(f\"Total is {total1}\")\n",
    "\n",
    "\n",
    "\n",
    "l_count = name2_l.count(\"l\") + name1_l.count(\"l\")\n",
    "\n",
    "print(f\"L occurs {l_count} times\")\n",
    "\n",
    "o_count = name2_l.count(\"o\") + name1_l.count(\"o\")\n",
    "\n",
    "print(f\"O occurs {o_count} times\")\n",
    "\n",
    "v_count = name2_l.count(\"v\") + name1_l.count(\"v\")\n",
    "\n",
    "print(f\"V occurs {v_count} times\")\n",
    "\n",
    "print(f\"E occurs {e_count} times\")\n",
    "\n",
    "total2 = int((l_count) + (o_count) + (v_count) + (e_count))\n",
    "\n",
    "print(f\"Total is {total2}\")\n",
    "\n",
    "score = int(total1)*10 + int(total2)\n",
    "\n",
    "print(f\"Love Score = {score}\")\n",
    "\n",
    "if  score >= 90 or score <=10:\n",
    "    print(f\"With a love score of {score}, you go together like coke and mentos!\")\n",
    "elif score > 40 and score < 50:\n",
    "    print(f\"With a score of {score}, you both are alright!\")\n",
    "else:\n",
    "    print(f\"Your love score is {score}\")\n"
   ]
  },
  {
   "cell_type": "code",
   "execution_count": null,
   "metadata": {},
   "outputs": [],
   "source": [
    "\n",
    "    "
   ]
  },
  {
   "cell_type": "code",
   "execution_count": null,
   "metadata": {},
   "outputs": [],
   "source": []
  },
  {
   "cell_type": "code",
   "execution_count": null,
   "metadata": {},
   "outputs": [],
   "source": []
  }
 ],
 "metadata": {
  "kernelspec": {
   "display_name": "Python 3",
   "language": "python",
   "name": "python3"
  },
  "language_info": {
   "codemirror_mode": {
    "name": "ipython",
    "version": 3
   },
   "file_extension": ".py",
   "mimetype": "text/x-python",
   "name": "python",
   "nbconvert_exporter": "python",
   "pygments_lexer": "ipython3",
   "version": "3.8.5"
  }
 },
 "nbformat": 4,
 "nbformat_minor": 4
}
