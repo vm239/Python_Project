{
 "cells": [
  {
   "cell_type": "code",
   "execution_count": null,
   "metadata": {},
   "outputs": [
    {
     "name": "stdout",
     "output_type": "stream",
     "text": [
      "Welcome to Treasure Island.\n",
      "Your mission is to find the treasure.\n",
      "\n",
      "*******************************************************************************\n",
      "          |                   |                  |                     |\n",
      " _________|________________.=\"\"_;=.______________|_____________________|_______\n",
      "|                   |  ,-\"_,=\"\"     `\"=.|                  |\n",
      "|___________________|__\"=._o`\"-._        `\"=.______________|___________________\n",
      "          |                `\"=._o`\"=._      _`\"=._                     |\n",
      " _________|_____________________:=._o \"=._.\"_.-=\"'\"=.__________________|_______\n",
      "|                   |    __.--\" , ; `\"=._o.\" ,-\"\"\"-._ \".   |\n",
      "|___________________|_._\"  ,. .` ` `` ,  `\"-._\"-._   \". '__|___________________\n",
      "          |           |o`\"=._` , \"` `; .\". ,  \"-._\"-._; ;              |\n",
      " _________|___________| ;`-.o`\"=._; .\" ` '`.\"\\` . \"-._ /_______________|_______\n",
      "|                   | |o;    `\"-.o`\"=._``  '` \" ,__.--o;   |\n",
      "|___________________|_| ;     (❤️) `-.o `\"=.`_.--\"_o.-; ;___|___________________\n",
      "____/______/______/___|o;._           `\".o|o_.--\"    ;o;____/______/______/____\n",
      "/______/______/______/_\"=._o--._        ; | ;        ; ;/______/______/______/_\n",
      "____/______/______/______/__\"=._o--._   ;o|o;     _._;o;____/______/______/____\n",
      "/______/______/______/______/____\"=._o._; | ;_.--\"o.--\"_/______/______/______/_\n",
      "____/______/______/______/______/_____\"=.o|o_.--\"\"___/______/______/______/____\n",
      "/______/______/______/______/______/______/______/______/______/______/_____ /\n",
      "*******************************************************************************\n",
      "\n",
      "Four crucial questions stand between you and this treasure.\n",
      "Choose your options wisely as one wrong turn, and it is\n",
      "GAME OVER\n"
     ]
    }
   ],
   "source": [
    "print(\"Welcome to Treasure Island.\")\n",
    "print(\"Your mission is to find the treasure.\") \n",
    "print('''\n",
    "*******************************************************************************\n",
    "          |                   |                  |                     |\n",
    " _________|________________.=\"\"_;=.______________|_____________________|_______\n",
    "|                   |  ,-\"_,=\"\"     `\"=.|                  |\n",
    "|___________________|__\"=._o`\"-._        `\"=.______________|___________________\n",
    "          |                `\"=._o`\"=._      _`\"=._                     |\n",
    " _________|_____________________:=._o \"=._.\"_.-=\"'\"=.__________________|_______\n",
    "|                   |    __.--\" , ; `\"=._o.\" ,-\"\"\"-._ \".   |\n",
    "|___________________|_._\"  ,. .` ` `` ,  `\"-._\"-._   \". '__|___________________\n",
    "          |           |o`\"=._` , \"` `; .\". ,  \"-._\"-._; ;              |\n",
    " _________|___________| ;`-.o`\"=._; .\" ` '`.\"\\` . \"-._ /_______________|_______\n",
    "|                   | |o;    `\"-.o`\"=._``  '` \" ,__.--o;   |\n",
    "|___________________|_| ;     (❤️) `-.o `\"=.`_.--\"_o.-; ;___|___________________\n",
    "____/______/______/___|o;._           `\".o|o_.--\"    ;o;____/______/______/____\n",
    "/______/______/______/_\"=._o--._        ; | ;        ; ;/______/______/______/_\n",
    "____/______/______/______/__\"=._o--._   ;o|o;     _._;o;____/______/______/____\n",
    "/______/______/______/______/____\"=._o._; | ;_.--\"o.--\"_/______/______/______/_\n",
    "____/______/______/______/______/_____\"=.o|o_.--\"\"___/______/______/______/____\n",
    "/______/______/______/______/______/______/______/______/______/______/_____ /\n",
    "*******************************************************************************\n",
    "''')\n",
    "print(\"Four crucial questions stand between you and this treasure.\\nChoose your options wisely as one wrong turn, and it is\\nGAME OVER\")\n",
    "play_choice = input(\"Type 'Yes' if you want to try the game and 'No' if you want to exit\\n\").lower()\n",
    "if play_choice == 'yes':\n",
    "    choice_one = input(\"You are faced with a giant troll, whom you have to cross to get closer to the treasure.\\nTo cross it, choose one of the following options.\\nOption 1 - Receive the gift of one giant leap, to cross the troll from above its head.\\nOption 2 - Receive a magic sword to stab clean through it's stomach to get past.\\nPlease type '1' or '2' corresponding to your option:\")\n",
    "    if choice_one == \"1\":\n",
    "        choice_two = input(\"Congratulations! That question was a test of your character.\\nEven though you had the option to kill the troll,\\nyou chose to jump over it and avoid unnecessary bloodshed.\\nYou deserve to go further in the quest to find this treasure.\\n\\nWelcome to the next question!\\nYou are faced with two choices that will define the next year of your life.\\nOption 1 - You spend the next year building a big house with the treasure, after which you can spend your time and money as you wish.\\nOption 2 - You spend the next year travelling the world on a tight budget, after which you can spend your time and money as you wish.\\nPlease type '1' or '2' corresponding to your option:\")\n",
    "        if choice_two == \"1\":\n",
    "            print(\"It is appreciable that you want to build a big house. However,\\nbeing worldly can help you use your treasure more wisely.\\nBetter luck next time. Adios!\")\n",
    "        elif choice_two == \"2\":\n",
    "            choice_three = input(\"We congratulate your explorative spirit and welcome you to the next and final question.\\n\\nConsider the following options-\\nOption 1- You win the treasure, but are forced to leave behind everything familiar to you for a life filled with opportunities.\\nOption 2 - You forego the treasure to maintain the sureity of the life you have right now.\\nPlease type '1' or '2' corresponding to your option:\")\n",
    "            if choice_three == \"1\":\n",
    "                print(\"CONGRATULATIONS ON WINNING THE TREASURE.\\nWe appreciate your passion to forego the familiar to welcome change.\\nBeyond the comfort zone lies immense potential, and we hope\\nyou unlock the potential of humanity with this treasure!\")\n",
    "            elif choice_three == \"2\":\n",
    "                print(\"CONGRATULATIONS ON WINNING THE TREASURE.\\nYou have proven yourself worthy,\\nas you are thankful for everything you already have in life.\\nWe hope you use this treasure to bring prosperity and joy\\nto other deserving persons, animals and causes.\\n\")\n",
    "            else:\n",
    "                print(\"You chose an unavailable option.\\nWe request you to try the quest again at a later time.\")\n",
    "        else:\n",
    "            print(\"You chose an unavailable option.\\nWe request you to try the quest again at a later time.\")\n",
    "    elif choice_one == \"2\":\n",
    "        print(\"This is the end of your treasure quest\\n- because you chose to kill a creature when you could avoid the violence.\\nOnly a person who values the life of all creatures equally deserves the treasure!\\nBetter luck next time.\\nAdios\")\n",
    "    else:\n",
    "        print(\"You chose an unavailable option.\\nWe request you to try the quest again at a later time.\")\n",
    "else:\n",
    "    print(\"Bah! Hope you come back when you feel more brave!\")"
   ]
  },
  {
   "cell_type": "code",
   "execution_count": null,
   "metadata": {},
   "outputs": [],
   "source": []
  }
 ],
 "metadata": {
  "kernelspec": {
   "display_name": "Python 3",
   "language": "python",
   "name": "python3"
  },
  "language_info": {
   "codemirror_mode": {
    "name": "ipython",
    "version": 3
   },
   "file_extension": ".py",
   "mimetype": "text/x-python",
   "name": "python",
   "nbconvert_exporter": "python",
   "pygments_lexer": "ipython3",
   "version": "3.8.5"
  }
 },
 "nbformat": 4,
 "nbformat_minor": 4
}
