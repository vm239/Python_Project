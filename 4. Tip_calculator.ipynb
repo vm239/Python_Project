{
 "cells": [
  {
   "cell_type": "code",
   "execution_count": null,
   "metadata": {},
   "outputs": [
    {
     "name": "stdout",
     "output_type": "stream",
     "text": [
      "Welcome to the tip calculator!\n"
     ]
    }
   ],
   "source": [
    "print(\"Welcome to the tip calculator!\")\n",
    "total_amt= input(\"What was the total bill? \")\n",
    "people_split = input(\"How many people are splitting the bill? \")\n",
    "tip_percent = ((float(input(\"What percentage you would like to tip:\\nCommon tips are 10% / 15%  or 20% of bill amount \"))/100) * int(total_amt))\n",
    "per_person= ((float(total_amt)+float(tip_percent))/ float(people_split))\n",
    "answer_amount = round(per_person, 2)\n",
    "print(f\"Each person must pay $ {answer_amount}\")"
   ]
  }
 ],
 "metadata": {
  "kernelspec": {
   "display_name": "Python 3",
   "language": "python",
   "name": "python3"
  },
  "language_info": {
   "codemirror_mode": {
    "name": "ipython",
    "version": 3
   },
   "file_extension": ".py",
   "mimetype": "text/x-python",
   "name": "python",
   "nbconvert_exporter": "python",
   "pygments_lexer": "ipython3",
   "version": "3.8.5"
  }
 },
 "nbformat": 4,
 "nbformat_minor": 4
}
